{
 "cells": [
  {
   "cell_type": "code",
   "execution_count": null,
   "id": "fd930ef4-0d17-46b9-b96d-f7c46e46d843",
   "metadata": {},
   "outputs": [],
   "source": [
    "# Import all required libraries"
   ]
  },
  {
   "cell_type": "code",
   "execution_count": null,
   "id": "ea5dac24-b706-438a-bb49-e84bc8e28a76",
   "metadata": {},
   "outputs": [],
   "source": [
    "import pandas as pd\n",
    "import numpy as np\n",
    "import matplotlib.pyplot as plt\n",
    "from sklearn.preprocessing import LabelEncoder\n",
    "from sklearn.manifold import TSNE\n",
    "from sklearn.preprocessing import StandardScaler\n",
    "from sklearn.model_selection import train_test_split\n",
    "from sklearn.metrics import accuracy_score\n",
    "from sklearn.ensemble import RandomForestClassifier\n",
    "from sklearn.tree import DecisionTreeClassifier\n",
    "from sklearn.feature_extraction.text import CountVectorizer\n",
    "from sklearn.neighbors import KNeighborsClassifier\n",
    "from sklearn.ensemble import GradientBoostingClassifier"
   ]
  },
  {
   "cell_type": "code",
   "execution_count": null,
   "id": "79ebe0ed-f4cb-48c5-aa1f-a46b13ae02ad",
   "metadata": {},
   "outputs": [],
   "source": [
    "df = pd.read_csv(\"mice_protein_expression.csv\")\n",
    "print(df.head(1))"
   ]
  },
  {
   "cell_type": "code",
   "execution_count": null,
   "id": "944382fc-bbca-49f1-9cc6-d3faf4aad97d",
   "metadata": {},
   "outputs": [],
   "source": [
    "df.shape"
   ]
  },
  {
   "cell_type": "code",
   "execution_count": null,
   "id": "d6143ae1-29b9-4332-aebd-143ae2052f14",
   "metadata": {},
   "outputs": [],
   "source": [
    "df_un = df.drop_duplicates(subset = \"MouseID\")                                  # Drop all duplicate entries in the column \"MouseID\"\n",
    "df_un.shape"
   ]
  },
  {
   "cell_type": "code",
   "execution_count": null,
   "id": "a4063e19-9c9f-4383-b350-d8497ef11702",
   "metadata": {},
   "outputs": [],
   "source": [
    "df.isnull().sum().sum()                                                         # Check total missing entries"
   ]
  },
  {
   "cell_type": "code",
   "execution_count": null,
   "id": "1eaa95c7-70ed-43cd-97f8-47b10ca2e265",
   "metadata": {},
   "outputs": [],
   "source": [
    "df.fillna(df.select_dtypes(include='number').mean(), inplace=True)              # Fill the missing entries with mean of the column"
   ]
  },
  {
   "cell_type": "code",
   "execution_count": null,
   "id": "26aec78b-30a0-4f05-946c-add40dffa6b0",
   "metadata": {},
   "outputs": [],
   "source": [
    "df.isnull().sum().sum()                                                         # Check for missing entries again"
   ]
  },
  {
   "cell_type": "code",
   "execution_count": null,
   "id": "bdb065db-9395-4c79-ad6d-e56fbcfc4cf3",
   "metadata": {},
   "outputs": [],
   "source": [
    "numerical_df = df.select_dtypes(include='number')                               # To save all numerical columns\n",
    "numerical_df.shape"
   ]
  },
  {
   "cell_type": "code",
   "execution_count": null,
   "id": "24af8ed4-b938-46d4-9954-42a54f0979dd",
   "metadata": {},
   "outputs": [],
   "source": [
    "\n",
    "# Encode the columns to numerical\n",
    "\n",
    "label_encoder = LabelEncoder()\n",
    "\n",
    "df['Genotype'] = label_encoder.fit_transform(df['Genotype'])\n",
    "df['Treatment'] = label_encoder.fit_transform(df['Treatment'])\n",
    "df['Behavior'] = label_encoder.fit_transform(df['Behavior'])\n",
    "\n",
    "df['class'], label_mapping = pd.factorize(df['class'])\n",
    "\n",
    "# Create a dictionary for reference\n",
    "\n",
    "outcome_mapping = dict(enumerate(label_mapping))\n",
    "\n",
    "print(\"DataFrame with numerical outcome:\\n\", df)\n",
    "print(\"\\nMapping of words to numbers:\\n\", outcome_mapping)"
   ]
  },
  {
   "cell_type": "code",
   "execution_count": null,
   "id": "a34b4012-1fa9-4e16-bc71-826ed46ab722",
   "metadata": {},
   "outputs": [],
   "source": [
    "print(df.head(1))"
   ]
  },
  {
   "cell_type": "code",
   "execution_count": null,
   "id": "074a4464-2bab-4cab-be93-63a609a9037c",
   "metadata": {},
   "outputs": [],
   "source": [
    "z  = df.drop(columns = \"class\",axis = 1)                           # Drop the \"class\" column\n",
    "x  = z.drop(columns = \"MouseID\",axis = 1)                          # Drop the \"MouseID\" column\n",
    "y = df[\"class\"]                                                    # Save the \"class\" column as y"
   ]
  },
  {
   "cell_type": "code",
   "execution_count": null,
   "id": "e2fdfd12-f2f8-463e-82ae-ac5cac840b17",
   "metadata": {},
   "outputs": [],
   "source": [
    "print(x.head(1))"
   ]
  },
  {
   "cell_type": "code",
   "execution_count": null,
   "id": "6abe39cb-f74c-455b-915c-e5adb0266f84",
   "metadata": {},
   "outputs": [],
   "source": [
    "print(y.head(1))"
   ]
  },
  {
   "cell_type": "code",
   "execution_count": null,
   "id": "8fa69877-d1ae-431c-becd-11075e08d38b",
   "metadata": {},
   "outputs": [],
   "source": [
    "y.unique()"
   ]
  },
  {
   "cell_type": "code",
   "execution_count": null,
   "id": "1fd6af2b-4380-43fe-b0e7-9287c9248daf",
   "metadata": {},
   "outputs": [],
   "source": [
    "# Standardise the data"
   ]
  },
  {
   "cell_type": "code",
   "execution_count": null,
   "id": "6011d68c-86dd-4f4b-8bc0-0a1e91c7d131",
   "metadata": {},
   "outputs": [],
   "source": [
    "scaler = StandardScaler()\n",
    "scaler.fit(x)"
   ]
  },
  {
   "cell_type": "code",
   "execution_count": null,
   "id": "57e8b5d1-6394-43d3-ac71-f23efd6212c3",
   "metadata": {},
   "outputs": [],
   "source": [
    "scaled_data = scaler.transform(x)\n",
    "print(scaled_data)"
   ]
  },
  {
   "cell_type": "code",
   "execution_count": null,
   "id": "02e006fc-2bf4-4e74-a4cb-e8dde576ea76",
   "metadata": {},
   "outputs": [],
   "source": [
    "# Reduce the dimension using t-SNE"
   ]
  },
  {
   "cell_type": "code",
   "execution_count": null,
   "id": "dc00b308-7549-46f2-b6e8-0f9bcbdc6d26",
   "metadata": {},
   "outputs": [],
   "source": [
    "tsne = TSNE(n_components=3, random_state=42)"
   ]
  },
  {
   "cell_type": "code",
   "execution_count": null,
   "id": "140ff53c-9189-41fd-aa76-54482db553c3",
   "metadata": {},
   "outputs": [],
   "source": [
    "x_tsne = tsne.fit_transform(scaled_data)"
   ]
  },
  {
   "cell_type": "code",
   "execution_count": null,
   "id": "5b2a10da-81c7-46a2-8f92-ad67449a0942",
   "metadata": {},
   "outputs": [],
   "source": [
    "print(x_tsne)"
   ]
  },
  {
   "cell_type": "code",
   "execution_count": null,
   "id": "91bc25d8-bc54-4fa9-be62-f5632862917a",
   "metadata": {},
   "outputs": [],
   "source": [
    "# Create a scatter plot of the t-SNE results\n",
    "plt.figure(figsize=(8,6))\n",
    "plt.scatter(x_tsne[:, 0], x_tsne[:, 1], c='blue', marker='o', edgecolor='k')\n",
    "\n",
    "# Add labels and title\n",
    "plt.title('t-SNE Visualization of Protein Levels in Mice')\n",
    "plt.xlabel('t-SNE 1')\n",
    "plt.ylabel('t-SNE 2')\n",
    "\n",
    "plt.show()"
   ]
  },
  {
   "cell_type": "code",
   "execution_count": null,
   "id": "68ddb740-a778-4d43-bb05-db2fb068ee16",
   "metadata": {},
   "outputs": [],
   "source": [
    "# Train, test, split"
   ]
  },
  {
   "cell_type": "code",
   "execution_count": null,
   "id": "8e5c0349-6df2-49b4-9b74-6bf467358ab3",
   "metadata": {},
   "outputs": [],
   "source": [
    "X_train, X_test, y_train, y_test = train_test_split(x_tsne, y, test_size=0.2, random_state=42)"
   ]
  },
  {
   "cell_type": "code",
   "execution_count": null,
   "id": "037b6fd6-8bc7-4841-9d37-69efa169f891",
   "metadata": {},
   "outputs": [],
   "source": [
    "# Training the model"
   ]
  },
  {
   "cell_type": "code",
   "execution_count": null,
   "id": "ae766948-6a7b-49c2-8754-cd7398007d6a",
   "metadata": {},
   "outputs": [],
   "source": [
    "models = {\n",
    "    \"Random Forest\": RandomForestClassifier(n_estimators=100, random_state=42),\n",
    "    \"Decision Tree\": DecisionTreeClassifier(max_depth=5, random_state=42),\n",
    "    \"KNN\": KNeighborsClassifier(n_neighbors=5),\n",
    "    \"Gradient Boosting\": GradientBoostingClassifier(n_estimators=100, learning_rate=0.1, random_state=42)\n",
    "}"
   ]
  },
  {
   "cell_type": "code",
   "execution_count": null,
   "id": "8e91c2a6-70c6-43a3-85f3-a465f269b455",
   "metadata": {},
   "outputs": [],
   "source": [
    "for name, model in models.items():\n",
    "    model.fit(X_train, y_train)\n",
    "    y_pred = model.predict(X_test)\n",
    "    accuracy = accuracy_score(y_test, y_pred)\n",
    "    print(f\"Model: {name}\")\n",
    "    print(f\"Accuracy: {accuracy}\")"
   ]
  },
  {
   "cell_type": "code",
   "execution_count": null,
   "id": "efbe1b52-0462-4af3-80ab-ade12d2a8d9e",
   "metadata": {},
   "outputs": [],
   "source": [
    "# Create a predictive model"
   ]
  },
  {
   "cell_type": "code",
   "execution_count": null,
   "id": "7a889fc2-37d6-4376-a7db-33947efa5ba5",
   "metadata": {},
   "outputs": [],
   "source": [
    "def mice(input_csv):\n",
    "    read = pd.read_csv(input_csv)\n",
    "    label_encoder = LabelEncoder()\n",
    "    read['Genotype'] = label_encoder.fit_transform(read['Genotype'])\n",
    "    read['Treatment'] = label_encoder.fit_transform(read['Treatment'])\n",
    "    read['Behavior'] = label_encoder.fit_transform(read['Behavior'])\n",
    "    read_drop = read_drop.drop(columns = \"MouseID\",axis =1)\n",
    "    scaler = StandardScaler()\n",
    "    scaler.fit(read_drop)\n",
    "    scaled_data = scaler.transform(read_drop)\n",
    "    tsne = TSNE(n_components=3, random_state=42)\n",
    "    read_tsne = tsne.fit_transform(scaled_data)\n",
    "    read_pred = model.predict(read_tsne)\n",
    "    \n",
    "    for pred in y_pred:\n",
    "        print(f\"Prediction:{pred},   Meaning:{outcome_mapping[pred]}\")"
   ]
  },
  {
   "cell_type": "code",
   "execution_count": null,
   "id": "502ecbbb-f787-4820-91fa-9a3423706458",
   "metadata": {},
   "outputs": [],
   "source": []
  }
 ],
 "metadata": {
  "kernelspec": {
   "display_name": "Python 3 (ipykernel)",
   "language": "python",
   "name": "python3"
  },
  "language_info": {
   "codemirror_mode": {
    "name": "ipython",
    "version": 3
   },
   "file_extension": ".py",
   "mimetype": "text/x-python",
   "name": "python",
   "nbconvert_exporter": "python",
   "pygments_lexer": "ipython3",
   "version": "3.12.3"
  }
 },
 "nbformat": 4,
 "nbformat_minor": 5
}
